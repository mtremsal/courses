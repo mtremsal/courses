{
 "cells": [
  {
   "cell_type": "code",
   "execution_count": 1,
   "metadata": {
    "collapsed": true
   },
   "outputs": [],
   "source": [
    "import unicodecsv\n",
    "\n",
    "def open_csv(filename):\n",
    "    with open(filename, 'rb') as f:\n",
    "        reader = unicodecsv.DictReader(f)\n",
    "        list_from_csv = list(reader)\n",
    "    return list_from_csv"
   ]
  },
  {
   "cell_type": "code",
   "execution_count": 2,
   "metadata": {
    "collapsed": false
   },
   "outputs": [
    {
     "name": "stdout",
     "output_type": "stream",
     "text": [
      "{u'status': u'canceled', u'is_udacity': u'True', u'is_canceled': u'True', u'join_date': u'2014-11-10', u'account_key': u'448', u'cancel_date': u'2015-01-14', u'days_to_cancel': u'65'}\n",
      "{u'lessons_completed': u'0.0', u'num_courses_visited': u'1.0', u'total_minutes_visited': u'11.6793745', u'projects_completed': u'0.0', u'acct': u'0', u'utc_date': u'2015-01-09'}\n",
      "{u'lesson_key': u'3176718735', u'processing_state': u'EVALUATED', u'account_key': u'256', u'assigned_rating': u'UNGRADED', u'completion_date': u'2015-01-16', u'creation_date': u'2015-01-14'}\n"
     ]
    }
   ],
   "source": [
    "enrollments_filename = 'resources/enrollments.csv'\n",
    "daily_engagement_filename = 'resources/daily_engagement.csv'\n",
    "project_submissions_filename = 'resources/project_submissions.csv'\n",
    "\n",
    "enrollments = open_csv(enrollments_filename)\n",
    "daily_engagement = open_csv(daily_engagement_filename)\n",
    "project_submissions = open_csv(project_submissions_filename)\n",
    "\n",
    "print(enrollments[0])\n",
    "print(daily_engagement[0])\n",
    "print(project_submissions[0])"
   ]
  },
  {
   "cell_type": "markdown",
   "metadata": {},
   "source": [
    "## Fixing Data Types"
   ]
  },
  {
   "cell_type": "code",
   "execution_count": 3,
   "metadata": {
    "collapsed": false
   },
   "outputs": [
    {
     "data": {
      "text/plain": [
       "{u'account_key': u'448',\n",
       " u'cancel_date': datetime.datetime(2015, 1, 14, 0, 0),\n",
       " u'days_to_cancel': 65,\n",
       " u'is_canceled': True,\n",
       " u'is_udacity': True,\n",
       " u'join_date': datetime.datetime(2014, 11, 10, 0, 0),\n",
       " u'status': u'canceled'}"
      ]
     },
     "execution_count": 3,
     "metadata": {},
     "output_type": "execute_result"
    }
   ],
   "source": [
    "from datetime import datetime as dt\n",
    "\n",
    "# Takes a date as a string, and returns a Python datetime object. \n",
    "# If there is no date given, returns None\n",
    "def parse_date(date):\n",
    "    if date == '':\n",
    "        return None\n",
    "    else:\n",
    "        return dt.strptime(date, '%Y-%m-%d')\n",
    "    \n",
    "# Takes a string which is either an empty string or represents an integer,\n",
    "# and returns an int or None.\n",
    "def parse_maybe_int(i):\n",
    "    if i == '':\n",
    "        return None\n",
    "    else:\n",
    "        return int(i)\n",
    "\n",
    "# Clean up the data types in the enrollments table\n",
    "for enrollment in enrollments:\n",
    "    enrollment['cancel_date'] = parse_date(enrollment['cancel_date'])\n",
    "    enrollment['days_to_cancel'] = parse_maybe_int(enrollment['days_to_cancel'])\n",
    "    enrollment['is_canceled'] = enrollment['is_canceled'] == 'True'\n",
    "    enrollment['is_udacity'] = enrollment['is_udacity'] == 'True'\n",
    "    enrollment['join_date'] = parse_date(enrollment['join_date'])\n",
    "    \n",
    "enrollments[0]"
   ]
  },
  {
   "cell_type": "code",
   "execution_count": 4,
   "metadata": {
    "collapsed": false
   },
   "outputs": [
    {
     "data": {
      "text/plain": [
       "{u'acct': u'0',\n",
       " u'lessons_completed': 0,\n",
       " u'num_courses_visited': 1,\n",
       " u'projects_completed': 0,\n",
       " u'total_minutes_visited': 11.6793745,\n",
       " u'utc_date': datetime.datetime(2015, 1, 9, 0, 0)}"
      ]
     },
     "execution_count": 4,
     "metadata": {},
     "output_type": "execute_result"
    }
   ],
   "source": [
    "# Clean up the data types in the engagement table\n",
    "for engagement_record in daily_engagement:\n",
    "    engagement_record['lessons_completed'] = int(float(engagement_record['lessons_completed']))\n",
    "    engagement_record['num_courses_visited'] = int(float(engagement_record['num_courses_visited']))\n",
    "    engagement_record['projects_completed'] = int(float(engagement_record['projects_completed']))\n",
    "    engagement_record['total_minutes_visited'] = float(engagement_record['total_minutes_visited'])\n",
    "    engagement_record['utc_date'] = parse_date(engagement_record['utc_date'])\n",
    "    \n",
    "daily_engagement[0]"
   ]
  },
  {
   "cell_type": "code",
   "execution_count": 5,
   "metadata": {
    "collapsed": false
   },
   "outputs": [
    {
     "data": {
      "text/plain": [
       "{u'account_key': u'256',\n",
       " u'assigned_rating': u'UNGRADED',\n",
       " u'completion_date': datetime.datetime(2015, 1, 16, 0, 0),\n",
       " u'creation_date': datetime.datetime(2015, 1, 14, 0, 0),\n",
       " u'lesson_key': u'3176718735',\n",
       " u'processing_state': u'EVALUATED'}"
      ]
     },
     "execution_count": 5,
     "metadata": {},
     "output_type": "execute_result"
    }
   ],
   "source": [
    "# Clean up the data types in the submissions table\n",
    "for submission in project_submissions:\n",
    "    submission['completion_date'] = parse_date(submission['completion_date'])\n",
    "    submission['creation_date'] = parse_date(submission['creation_date'])\n",
    "\n",
    "project_submissions[0]"
   ]
  },
  {
   "cell_type": "markdown",
   "metadata": {},
   "source": [
    "## Problems in the Data"
   ]
  },
  {
   "cell_type": "code",
   "execution_count": 6,
   "metadata": {
    "collapsed": false
   },
   "outputs": [
    {
     "data": {
      "text/plain": [
       "{'account_key': u'0',\n",
       " u'lessons_completed': 0,\n",
       " u'num_courses_visited': 1,\n",
       " u'projects_completed': 0,\n",
       " u'total_minutes_visited': 11.6793745,\n",
       " u'utc_date': datetime.datetime(2015, 1, 9, 0, 0)}"
      ]
     },
     "execution_count": 6,
     "metadata": {},
     "output_type": "execute_result"
    }
   ],
   "source": [
    "for row in daily_engagement:\n",
    "    row[\"account_key\"] = row[\"acct\"]\n",
    "    del(row[\"acct\"])\n",
    "\n",
    "daily_engagement[0]"
   ]
  },
  {
   "cell_type": "code",
   "execution_count": 7,
   "metadata": {
    "collapsed": true
   },
   "outputs": [],
   "source": [
    "def unique_students_in_data(data):\n",
    "    unique_rows = set()\n",
    "    for row in data:\n",
    "        unique_rows.add(row[\"account_key\"])\n",
    "    return unique_rows"
   ]
  },
  {
   "cell_type": "code",
   "execution_count": 8,
   "metadata": {
    "collapsed": true
   },
   "outputs": [],
   "source": [
    "def unique_students_in_data_info(data):\n",
    "    unique_rows = unique_students_in_data(data)\n",
    "    return \"# of Account Keys in data: {:,} out of {:,} ({:.2%})\".format(len(unique_rows),\n",
    "                                                                       len(data),\n",
    "                                                                        1.*len(unique_rows)/len(data))"
   ]
  },
  {
   "cell_type": "code",
   "execution_count": 9,
   "metadata": {
    "collapsed": false
   },
   "outputs": [
    {
     "name": "stdout",
     "output_type": "stream",
     "text": [
      "### enrollments\n",
      "# of Account Keys in data: 1,302 out of 1,640 (79.39%)\n",
      "### daily_engagement\n",
      "# of Account Keys in data: 1,237 out of 136,240 (0.91%)\n",
      "### project_submissions\n",
      "# of Account Keys in data: 743 out of 3,642 (20.40%)\n"
     ]
    }
   ],
   "source": [
    "unique_enrollments = unique_students_in_data(enrollments)\n",
    "unique_daily_engagements = unique_students_in_data(daily_engagement)\n",
    "unique_project_submissions = unique_students_in_data(project_submissions)\n",
    "\n",
    "print(\"### enrollments\")\n",
    "print(unique_students_in_data_info(enrollments))\n",
    "print(\"### daily_engagement\")\n",
    "print(unique_students_in_data_info(daily_engagement))\n",
    "print(\"### project_submissions\")\n",
    "print(unique_students_in_data_info(project_submissions))"
   ]
  },
  {
   "cell_type": "markdown",
   "metadata": {},
   "source": [
    "## Missing Engagement Records"
   ]
  },
  {
   "cell_type": "code",
   "execution_count": 10,
   "metadata": {
    "collapsed": false
   },
   "outputs": [
    {
     "name": "stdout",
     "output_type": "stream",
     "text": [
      "### enrollments_without_engagement\n",
      "#0: {u'status': u'canceled', u'is_udacity': False, u'is_canceled': True, u'join_date': datetime.datetime(2014, 11, 12, 0, 0), u'account_key': u'1219', u'cancel_date': datetime.datetime(2014, 11, 12, 0, 0), u'days_to_cancel': 0}\n",
      "#1: {u'status': u'canceled', u'is_udacity': False, u'is_canceled': True, u'join_date': datetime.datetime(2014, 11, 13, 0, 0), u'account_key': u'871', u'cancel_date': datetime.datetime(2014, 11, 13, 0, 0), u'days_to_cancel': 0}\n",
      "#2: {u'status': u'canceled', u'is_udacity': False, u'is_canceled': True, u'join_date': datetime.datetime(2014, 11, 15, 0, 0), u'account_key': u'1218', u'cancel_date': datetime.datetime(2014, 11, 15, 0, 0), u'days_to_cancel': 0}\n",
      "#3: {u'status': u'canceled', u'is_udacity': False, u'is_canceled': True, u'join_date': datetime.datetime(2014, 12, 4, 0, 0), u'account_key': u'654', u'cancel_date': datetime.datetime(2014, 12, 4, 0, 0), u'days_to_cancel': 0}\n",
      "#4: {u'status': u'canceled', u'is_udacity': False, u'is_canceled': True, u'join_date': datetime.datetime(2014, 12, 4, 0, 0), u'account_key': u'654', u'cancel_date': datetime.datetime(2014, 12, 4, 0, 0), u'days_to_cancel': 0}\n"
     ]
    }
   ],
   "source": [
    "enrollments_without_engagement = []\n",
    "\n",
    "for row in enrollments:\n",
    "    if not row[\"account_key\"] in unique_daily_engagements:\n",
    "        enrollments_without_engagement.append(row)\n",
    "\n",
    "print(\"### enrollments_without_engagement\")\n",
    "for i in range(5):\n",
    "    print(\"#{}: {}\".format(i, enrollments_without_engagement[i]))"
   ]
  },
  {
   "cell_type": "markdown",
   "metadata": {},
   "source": [
    "## Checking for More Problem Records"
   ]
  },
  {
   "cell_type": "code",
   "execution_count": 11,
   "metadata": {
    "collapsed": false
   },
   "outputs": [
    {
     "name": "stdout",
     "output_type": "stream",
     "text": [
      "### enrollments_without_engagement_and_not_canceled_the_same_day\n",
      "#0: {u'status': u'canceled', u'is_udacity': True, u'is_canceled': True, u'join_date': datetime.datetime(2015, 1, 10, 0, 0), u'account_key': u'1304', u'cancel_date': datetime.datetime(2015, 3, 10, 0, 0), u'days_to_cancel': 59}\n",
      "#1: {u'status': u'canceled', u'is_udacity': True, u'is_canceled': True, u'join_date': datetime.datetime(2015, 3, 10, 0, 0), u'account_key': u'1304', u'cancel_date': datetime.datetime(2015, 6, 17, 0, 0), u'days_to_cancel': 99}\n",
      "#2: {u'status': u'current', u'is_udacity': True, u'is_canceled': False, u'join_date': datetime.datetime(2015, 2, 25, 0, 0), u'account_key': u'1101', u'cancel_date': None, u'days_to_cancel': None}\n",
      "Number of problematic rows left: 3\n"
     ]
    }
   ],
   "source": [
    "enrollments_without_engagement_and_not_canceled_the_same_day = []\n",
    "\n",
    "for row in enrollments_without_engagement:\n",
    "    if row[\"days_to_cancel\"] or row[\"days_to_cancel\"] == None:\n",
    "        enrollments_without_engagement_and_not_canceled_the_same_day.append(row)\n",
    "\n",
    "print(\"### enrollments_without_engagement_and_not_canceled_the_same_day\")\n",
    "for i, row in enumerate(enrollments_without_engagement_and_not_canceled_the_same_day):\n",
    "    print(\"#{}: {}\".format(i, row))\n",
    "print(\"Number of problematic rows left: {}\".format(len(enrollments_without_engagement_and_not_canceled_the_same_day)))"
   ]
  },
  {
   "cell_type": "markdown",
   "metadata": {},
   "source": [
    "## Tracking Down the Remaining Problems"
   ]
  },
  {
   "cell_type": "code",
   "execution_count": 12,
   "metadata": {
    "collapsed": false
   },
   "outputs": [
    {
     "data": {
      "text/plain": [
       "6"
      ]
     },
     "execution_count": 12,
     "metadata": {},
     "output_type": "execute_result"
    }
   ],
   "source": [
    "# Create a set of the account keys for all Udacity test accounts\n",
    "udacity_test_accounts = set()\n",
    "for enrollment in enrollments:\n",
    "    if enrollment['is_udacity']:\n",
    "        udacity_test_accounts.add(enrollment['account_key'])\n",
    "len(udacity_test_accounts)"
   ]
  },
  {
   "cell_type": "code",
   "execution_count": 13,
   "metadata": {
    "collapsed": true
   },
   "outputs": [],
   "source": [
    "# Given some data with an account_key field, removes any records corresponding to Udacity test accounts\n",
    "def remove_udacity_accounts(data):\n",
    "    non_udacity_data = []\n",
    "    for data_point in data:\n",
    "        if data_point['account_key'] not in udacity_test_accounts:\n",
    "            non_udacity_data.append(data_point)\n",
    "    return non_udacity_data"
   ]
  },
  {
   "cell_type": "code",
   "execution_count": 14,
   "metadata": {
    "collapsed": false
   },
   "outputs": [
    {
     "name": "stdout",
     "output_type": "stream",
     "text": [
      "1622\n",
      "135656\n",
      "3634\n"
     ]
    }
   ],
   "source": [
    "# Remove Udacity test accounts from all three tables\n",
    "non_udacity_enrollments = remove_udacity_accounts(enrollments)\n",
    "non_udacity_engagement = remove_udacity_accounts(daily_engagement)\n",
    "non_udacity_submissions = remove_udacity_accounts(project_submissions)\n",
    "\n",
    "print len(non_udacity_enrollments)\n",
    "print len(non_udacity_engagement)\n",
    "print len(non_udacity_submissions)"
   ]
  },
  {
   "cell_type": "markdown",
   "metadata": {},
   "source": [
    "## Refining the Question"
   ]
  },
  {
   "cell_type": "code",
   "execution_count": 15,
   "metadata": {
    "collapsed": false
   },
   "outputs": [
    {
     "name": "stdout",
     "output_type": "stream",
     "text": [
      "995\n"
     ]
    }
   ],
   "source": [
    "paid_students = {}\n",
    "\n",
    "for row in non_udacity_enrollments:\n",
    "    if row[\"days_to_cancel\"] == None or row[\"days_to_cancel\"] > 7:\n",
    "        account_key = row[\"account_key\"]\n",
    "        join_date = row[\"join_date\"]\n",
    "        if account_key not in paid_students or join_date > paid_students[account_key]:\n",
    "            paid_students[account_key] = join_date\n",
    "\n",
    "print(len(paid_students))"
   ]
  },
  {
   "cell_type": "markdown",
   "metadata": {},
   "source": [
    "## Getting Data from First Week"
   ]
  },
  {
   "cell_type": "code",
   "execution_count": 16,
   "metadata": {
    "collapsed": true
   },
   "outputs": [],
   "source": [
    "def within_one_week(join_date, engagement_date):\n",
    "    time_delta = engagement_date - join_date\n",
    "    return time_delta.days < 7 and time_delta.days >= 0"
   ]
  },
  {
   "cell_type": "code",
   "execution_count": 17,
   "metadata": {
    "collapsed": false
   },
   "outputs": [
    {
     "name": "stdout",
     "output_type": "stream",
     "text": [
      "paid_engagement_in_first_week: 6,919 out of 135,656 (5.10%)\n"
     ]
    }
   ],
   "source": [
    "paid_engagement_in_first_week = []\n",
    "\n",
    "for row in non_udacity_engagement:\n",
    "    if row[\"account_key\"] in paid_students and within_one_week(paid_students[row[\"account_key\"]], row[\"utc_date\"]):\n",
    "        paid_engagement_in_first_week.append(row)\n",
    "\n",
    "print(\"paid_engagement_in_first_week: {:,} out of {:,} ({:.2%})\".format(len(paid_engagement_in_first_week),\n",
    "                                                                       len(non_udacity_engagement),\n",
    "                                                                        1.*len(paid_engagement_in_first_week)/len(non_udacity_engagement)))"
   ]
  },
  {
   "cell_type": "code",
   "execution_count": 18,
   "metadata": {
    "collapsed": true
   },
   "outputs": [],
   "source": [
    "paid_submissions = []\n",
    "for row in non_udacity_submissions:\n",
    "    if row[\"account_key\"] in paid_students:\n",
    "        paid_submissions.append(row)"
   ]
  },
  {
   "cell_type": "markdown",
   "metadata": {},
   "source": [
    "## Exploring Student Engagement"
   ]
  },
  {
   "cell_type": "code",
   "execution_count": 19,
   "metadata": {
    "collapsed": true
   },
   "outputs": [],
   "source": [
    "from collections import defaultdict\n",
    "\n",
    "# Create a dictionary of engagement grouped by student.\n",
    "# The keys are account keys, and the values are lists of engagement records.\n",
    "engagement_by_account = defaultdict(list)\n",
    "for engagement_record in paid_engagement_in_first_week:\n",
    "    account_key = engagement_record['account_key']\n",
    "    engagement_by_account[account_key].append(engagement_record)"
   ]
  },
  {
   "cell_type": "code",
   "execution_count": 20,
   "metadata": {
    "collapsed": true
   },
   "outputs": [],
   "source": [
    "def sum_grouped_items(grouped_data, field_name):\n",
    "    summed_data = {}\n",
    "    for key, data_points in grouped_data.items():\n",
    "        total = 0\n",
    "        for data_point in data_points:\n",
    "            total += data_point[field_name]\n",
    "        summed_data[key] = total\n",
    "    return summed_data\n",
    "\n",
    "total_minutes_by_account = sum_grouped_items(engagement_by_account, 'total_minutes_visited')"
   ]
  },
  {
   "cell_type": "code",
   "execution_count": 21,
   "metadata": {
    "collapsed": false
   },
   "outputs": [
    {
     "name": "stdout",
     "output_type": "stream",
     "text": [
      "Mean: 306.708326753\n",
      "Standard deviation: 412.996933409\n",
      "Minimum: 0.0\n",
      "Maximum: 3564.7332645\n"
     ]
    }
   ],
   "source": [
    "import numpy as np\n",
    "\n",
    "def summarize_data(data):\n",
    "    print 'Mean:', np.mean(data)\n",
    "    print 'Standard deviation:', np.std(data)\n",
    "    print 'Minimum:', np.min(data)\n",
    "    print 'Maximum:', np.max(data)\n",
    "\n",
    "summarize_data(total_minutes_by_account.values())"
   ]
  },
  {
   "cell_type": "markdown",
   "metadata": {},
   "source": [
    "## Debugging Data Analysis Code"
   ]
  },
  {
   "cell_type": "code",
   "execution_count": 22,
   "metadata": {
    "collapsed": false
   },
   "outputs": [
    {
     "name": "stdout",
     "output_type": "stream",
     "text": [
      "Highest engagement: 3564.7332645 minutes for account #163\n",
      "{u'lessons_completed': 4, u'num_courses_visited': 4, u'total_minutes_visited': 850.519339666, u'projects_completed': 0, 'account_key': u'163', u'utc_date': datetime.datetime(2015, 7, 9, 0, 0)}\n",
      "{u'lessons_completed': 6, u'num_courses_visited': 6, u'total_minutes_visited': 872.633923334, u'projects_completed': 0, 'account_key': u'163', u'utc_date': datetime.datetime(2015, 7, 10, 0, 0)}\n",
      "{u'lessons_completed': 6, u'num_courses_visited': 2, u'total_minutes_visited': 777.018903666, u'projects_completed': 0, 'account_key': u'163', u'utc_date': datetime.datetime(2015, 7, 11, 0, 0)}\n",
      "{u'lessons_completed': 2, u'num_courses_visited': 1, u'total_minutes_visited': 294.568774, u'projects_completed': 0, 'account_key': u'163', u'utc_date': datetime.datetime(2015, 7, 12, 0, 0)}\n",
      "{u'lessons_completed': 1, u'num_courses_visited': 3, u'total_minutes_visited': 471.2139785, u'projects_completed': 0, 'account_key': u'163', u'utc_date': datetime.datetime(2015, 7, 13, 0, 0)}\n",
      "{u'lessons_completed': 1, u'num_courses_visited': 2, u'total_minutes_visited': 298.778345333, u'projects_completed': 0, 'account_key': u'163', u'utc_date': datetime.datetime(2015, 7, 14, 0, 0)}\n",
      "{u'lessons_completed': 0, u'num_courses_visited': 0, u'total_minutes_visited': 0.0, u'projects_completed': 0, 'account_key': u'163', u'utc_date': datetime.datetime(2015, 7, 15, 0, 0)}\n"
     ]
    }
   ],
   "source": [
    "from collections import OrderedDict\n",
    "\n",
    "ordered_total_minutes_by_account = OrderedDict(sorted(total_minutes_by_account.items(), key=lambda t: t[1]))\n",
    "key_with_highest_engagement = ordered_total_minutes_by_account.keys()[-1]\n",
    "print(\"Highest engagement: {} minutes for account #{}\".format(ordered_total_minutes_by_account[key_with_highest_engagement], key_with_highest_engagement))\n",
    "\n",
    "for engagement_row in engagement_by_account[key_with_highest_engagement]:\n",
    "    print(engagement_row)\n",
    "\n",
    "# It looks like some students re-start their course later, and thus have previous engagement records dating from before the latest enrollment."
   ]
  },
  {
   "cell_type": "markdown",
   "metadata": {},
   "source": [
    "## Lessons Completed in First Week"
   ]
  },
  {
   "cell_type": "code",
   "execution_count": 23,
   "metadata": {
    "collapsed": false
   },
   "outputs": [
    {
     "name": "stdout",
     "output_type": "stream",
     "text": [
      "Mean: 1.63618090452\n",
      "Standard deviation: 3.00256129983\n",
      "Minimum: 0\n",
      "Maximum: 36\n"
     ]
    }
   ],
   "source": [
    "total_lessons_by_account = sum_grouped_items(engagement_by_account, 'lessons_completed')\n",
    "\n",
    "summarize_data(total_lessons_by_account.values())"
   ]
  },
  {
   "cell_type": "markdown",
   "metadata": {},
   "source": [
    "## Number of Visits in First Week"
   ]
  },
  {
   "cell_type": "code",
   "execution_count": 24,
   "metadata": {
    "collapsed": false
   },
   "outputs": [
    {
     "name": "stdout",
     "output_type": "stream",
     "text": [
      "Mean: 2.86733668342\n",
      "Standard deviation: 2.25519800292\n",
      "Minimum: 0\n",
      "Maximum: 7\n"
     ]
    }
   ],
   "source": [
    "for account, engagement_records in engagement_by_account.items():\n",
    "    for engagement_record in engagement_records:\n",
    "        if engagement_record[\"num_courses_visited\"] > 0:\n",
    "            engagement_record[\"has_visited\"] = 1\n",
    "        else:\n",
    "            engagement_record[\"has_visited\"] = 0\n",
    "\n",
    "total_visits_by_account = sum_grouped_items(engagement_by_account, 'has_visited')\n",
    "summarize_data(total_visits_by_account.values())"
   ]
  },
  {
   "cell_type": "markdown",
   "metadata": {},
   "source": [
    "## Splitting out Passing Students"
   ]
  },
  {
   "cell_type": "code",
   "execution_count": 25,
   "metadata": {
    "collapsed": false
   },
   "outputs": [
    {
     "name": "stdout",
     "output_type": "stream",
     "text": [
      "647 passing submissions\n",
      "33 non passing submissions\n",
      "4527 passing engagements\n",
      "2392 non passing engagements\n"
     ]
    }
   ],
   "source": [
    "subway_project_lesson_keys = ['746169184', '3176718735']\n",
    "\n",
    "paid_submissions[0]\n",
    "# assigned_rating_values = set()\n",
    "# for row in paid_submissions:\n",
    "#     assigned_rating_values.add(row[\"assigned_rating\"])\n",
    "# assigned_rating_values = {u'', u'DISTINCTION', u'INCOMPLETE', u'PASSED', u'UNGRADED'}\n",
    "\n",
    "passing_ratings = [u'DISTINCTION', u'PASSED']\n",
    "passing_submissions = set()\n",
    "non_passing_submissions_before_review = set()\n",
    "non_passing_submissions = set()\n",
    "\n",
    "for row in paid_submissions:\n",
    "    if row['lesson_key'] in subway_project_lesson_keys:\n",
    "        if row['assigned_rating'] in passing_ratings:\n",
    "            passing_submissions.add(row['account_key'])\n",
    "        else:\n",
    "            non_passing_submissions_before_review.add(row['account_key'])\n",
    "for value in non_passing_submissions_before_review:\n",
    "    if not value in passing_submissions:\n",
    "        non_passing_submissions.add(value)\n",
    "\n",
    "print(\"{} passing submissions\".format(len(passing_submissions)))\n",
    "print(\"{} non passing submissions\".format(len(non_passing_submissions)))\n",
    "\n",
    "passing_engagement = []\n",
    "non_passing_engagement = []\n",
    "\n",
    "for row in paid_engagement_in_first_week:\n",
    "    if row['account_key'] in passing_submissions:\n",
    "        passing_engagement.append(row)\n",
    "    else:\n",
    "        non_passing_engagement.append(row)\n",
    "\n",
    "print(\"{} passing engagements\".format(len(passing_engagement)))\n",
    "print(\"{} non passing engagements\".format(len(non_passing_engagement)))"
   ]
  },
  {
   "cell_type": "markdown",
   "metadata": {},
   "source": [
    "## Comparing the Two Student Groups"
   ]
  },
  {
   "cell_type": "code",
   "execution_count": 26,
   "metadata": {
    "collapsed": false
   },
   "outputs": [
    {
     "name": "stdout",
     "output_type": "stream",
     "text": [
      "total_lessons_by_passing_account\n",
      "Mean: 2.05255023184\n",
      "Standard deviation: 3.14222705558\n",
      "Minimum: 0\n",
      "Maximum: 36\n",
      "total_lessons_by_non_passing_account\n",
      "Mean: 0.862068965517\n",
      "Standard deviation: 2.54915994183\n",
      "Minimum: 0\n",
      "Maximum: 27\n"
     ]
    }
   ],
   "source": [
    "passing_engagement_by_account = defaultdict(list)\n",
    "for engagement_record in passing_engagement:\n",
    "    account_key = engagement_record['account_key']\n",
    "    passing_engagement_by_account[account_key].append(engagement_record)\n",
    "non_passing_engagement_by_account = defaultdict(list)\n",
    "for engagement_record in non_passing_engagement:\n",
    "    account_key = engagement_record['account_key']\n",
    "    non_passing_engagement_by_account[account_key].append(engagement_record)\n",
    "    \n",
    "total_lessons_by_passing_account = sum_grouped_items(passing_engagement_by_account, 'lessons_completed')\n",
    "total_lessons_by_non_passing_account = sum_grouped_items(non_passing_engagement_by_account, 'lessons_completed')\n",
    "\n",
    "print(\"total_lessons_by_passing_account\")\n",
    "summarize_data(total_lessons_by_passing_account.values())\n",
    "print(\"total_lessons_by_non_passing_account\")\n",
    "summarize_data(total_lessons_by_non_passing_account.values())"
   ]
  },
  {
   "cell_type": "code",
   "execution_count": 27,
   "metadata": {
    "collapsed": false
   },
   "outputs": [
    {
     "name": "stdout",
     "output_type": "stream",
     "text": [
      "total_minutes_by_passing_account\n",
      "Mean: 394.586046484\n",
      "Standard deviation: 448.499519327\n",
      "Minimum: 0.0\n",
      "Maximum: 3564.7332645\n",
      "total_minutes_by_non_passing_account\n",
      "Mean: 143.326474267\n",
      "Standard deviation: 269.538619011\n",
      "Minimum: 0.0\n",
      "Maximum: 1768.52274933\n"
     ]
    }
   ],
   "source": [
    "total_minutes_by_passing_account = sum_grouped_items(passing_engagement_by_account, 'total_minutes_visited')\n",
    "total_minutes_by_non_passing_account = sum_grouped_items(non_passing_engagement_by_account, 'total_minutes_visited')\n",
    "\n",
    "print(\"total_minutes_by_passing_account\")\n",
    "summarize_data(total_minutes_by_passing_account.values())\n",
    "print(\"total_minutes_by_non_passing_account\")\n",
    "summarize_data(total_minutes_by_non_passing_account.values())"
   ]
  },
  {
   "cell_type": "code",
   "execution_count": 28,
   "metadata": {
    "collapsed": false
   },
   "outputs": [
    {
     "name": "stdout",
     "output_type": "stream",
     "text": [
      "total_visits_by_passing_account\n",
      "Mean: 3.38485316847\n",
      "Standard deviation: 2.25882147092\n",
      "Minimum: 0\n",
      "Maximum: 7\n",
      "total_visits_by_non_passing_account\n",
      "Mean: 1.90517241379\n",
      "Standard deviation: 1.90573144136\n",
      "Minimum: 0\n",
      "Maximum: 7\n"
     ]
    }
   ],
   "source": [
    "# some_key = passing_engagement_by_account.keys()[-1]\n",
    "# print some_key\n",
    "# print passing_engagement_by_account[some_key]\n",
    "total_visits_by_passing_account = sum_grouped_items(passing_engagement_by_account, 'has_visited')\n",
    "total_visits_by_non_passing_account = sum_grouped_items(non_passing_engagement_by_account, 'has_visited')\n",
    "\n",
    "print(\"total_visits_by_passing_account\")\n",
    "summarize_data(total_visits_by_passing_account.values())\n",
    "print(\"total_visits_by_non_passing_account\")\n",
    "summarize_data(total_visits_by_non_passing_account.values())"
   ]
  },
  {
   "cell_type": "markdown",
   "metadata": {},
   "source": [
    "## Making Histograms"
   ]
  },
  {
   "cell_type": "code",
   "execution_count": 32,
   "metadata": {
    "collapsed": false,
    "scrolled": true
   },
   "outputs": [
    {
     "data": {
      "text/plain": [
       "<matplotlib.text.Text at 0x124ab0390>"
      ]
     },
     "execution_count": 32,
     "metadata": {},
     "output_type": "execute_result"
    },
    {
     "data": {
      "image/png": "[encoded data removed]",
      "text/plain": [
       "<matplotlib.figure.Figure at 0x124a06250>"
      ]
     },
     "metadata": {},
     "output_type": "display_data"
    }
   ],
   "source": [
    "%matplotlib inline\n",
    "import seaborn as sns\n",
    "import matplotlib.pyplot as plt\n",
    "\n",
    "# fig, ((a,b),(c,d)) = plt.subplots(2,2)\n",
    "fig, (a,b) = plt.subplots(1,2,sharex=True,sharey=True, figsize=(15,5))\n",
    "\n",
    "a.hist(total_lessons_by_non_passing_account.values(), bins=20)\n",
    "a.set_title(\"Lessons (non-passing)\")\n",
    "b.hist(total_lessons_by_passing_account.values(), bins=20)\n",
    "b.set_title(\"Lessons (passing)\")"
   ]
  },
  {
   "cell_type": "code",
   "execution_count": 33,
   "metadata": {
    "collapsed": false
   },
   "outputs": [
    {
     "data": {
      "text/plain": [
       "<matplotlib.text.Text at 0x125037c10>"
      ]
     },
     "execution_count": 33,
     "metadata": {},
     "output_type": "execute_result"
    },
    {
     "data": {
      "image/png": "[encoded data removed]",
      "text/plain": [
       "<matplotlib.figure.Figure at 0x124643e50>"
      ]
     },
     "metadata": {},
     "output_type": "display_data"
    }
   ],
   "source": [
    "fig, (c,d) = plt.subplots(1,2,sharex=True,sharey=True, figsize=(15,5))\n",
    "\n",
    "c.hist(total_minutes_by_non_passing_account.values(), bins=20)\n",
    "c.set_title(\"Minutes (non-passing)\")\n",
    "d.hist(total_minutes_by_passing_account.values(), bins=20)\n",
    "d.set_title(\"Minutes (passing)\")"
   ]
  },
  {
   "cell_type": "code",
   "execution_count": 31,
   "metadata": {
    "collapsed": false
   },
   "outputs": [
    {
     "data": {
      "text/plain": [
       "<matplotlib.text.Text at 0x1247453d0>"
      ]
     },
     "execution_count": 31,
     "metadata": {},
     "output_type": "execute_result"
    },
    {
     "data": {
      "image/png": "[encoded data removed]",
      "text/plain": [
       "<matplotlib.figure.Figure at 0x124643550>"
      ]
     },
     "metadata": {},
     "output_type": "display_data"
    }
   ],
   "source": [
    "fig, (e,f) = plt.subplots(1,2,sharex=True,sharey=True, figsize=(15,5))\n",
    "\n",
    "e.hist(total_visits_by_non_passing_account.values(), bins=7)\n",
    "e.set_title(\"Visits (non-passing)\")\n",
    "f.hist(total_visits_by_passing_account.values(), bins=7)\n",
    "f.set_title(\"Visits (passing)\")"
   ]
  }
 ],
 "metadata": {
  "anaconda-cloud": {},
  "kernelspec": {
   "display_name": "Python [courses]",
   "language": "python",
   "name": "Python [courses]"
  },
  "language_info": {
   "codemirror_mode": {
    "name": "ipython",
    "version": 2
   },
   "file_extension": ".py",
   "mimetype": "text/x-python",
   "name": "python",
   "nbconvert_exporter": "python",
   "pygments_lexer": "ipython2",
   "version": "2.7.12"
  }
 },
 "nbformat": 4,
 "nbformat_minor": 0
}
